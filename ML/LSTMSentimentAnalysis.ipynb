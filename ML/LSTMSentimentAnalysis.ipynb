{
 "cells": [
  {
   "cell_type": "code",
   "execution_count": 1,
   "metadata": {
    "collapsed": true
   },
   "outputs": [
    {
     "data": {
      "text/plain": "'2.7.0'"
     },
     "execution_count": 1,
     "metadata": {},
     "output_type": "execute_result"
    }
   ],
   "source": [
    "import pandas as pd\n",
    "import numpy as np\n",
    "import tensorflow as tf\n",
    "from tensorflow import keras\n",
    "from keras.layers import Dense, Dropout, Flatten, Activation, BatchNormalization\n",
    "tf.__version__\n",
    "keras.__version__"
   ]
  },
  {
   "cell_type": "code",
   "execution_count": 2,
   "outputs": [
    {
     "data": {
      "text/plain": "                 id                                       comment_text\n0  00001cee341fdb12  Yo bitch Ja Rule is more succesful then you'll...\n1  0000247867823ef7  == From RfC == \\n\\n The title is fine as it is...\n2  00013b17ad220c46  \" \\n\\n == Sources == \\n\\n * Zawe Ashton on Lap...\n3  00017563c3f7919a  :If you have a look back at the source, the in...\n4  00017695ad8997eb          I don't anonymously edit articles at all.",
      "text/html": "<div>\n<style scoped>\n    .dataframe tbody tr th:only-of-type {\n        vertical-align: middle;\n    }\n\n    .dataframe tbody tr th {\n        vertical-align: top;\n    }\n\n    .dataframe thead th {\n        text-align: right;\n    }\n</style>\n<table border=\"1\" class=\"dataframe\">\n  <thead>\n    <tr style=\"text-align: right;\">\n      <th></th>\n      <th>id</th>\n      <th>comment_text</th>\n    </tr>\n  </thead>\n  <tbody>\n    <tr>\n      <th>0</th>\n      <td>00001cee341fdb12</td>\n      <td>Yo bitch Ja Rule is more succesful then you'll...</td>\n    </tr>\n    <tr>\n      <th>1</th>\n      <td>0000247867823ef7</td>\n      <td>== From RfC == \\n\\n The title is fine as it is...</td>\n    </tr>\n    <tr>\n      <th>2</th>\n      <td>00013b17ad220c46</td>\n      <td>\" \\n\\n == Sources == \\n\\n * Zawe Ashton on Lap...</td>\n    </tr>\n    <tr>\n      <th>3</th>\n      <td>00017563c3f7919a</td>\n      <td>:If you have a look back at the source, the in...</td>\n    </tr>\n    <tr>\n      <th>4</th>\n      <td>00017695ad8997eb</td>\n      <td>I don't anonymously edit articles at all.</td>\n    </tr>\n  </tbody>\n</table>\n</div>"
     },
     "execution_count": 2,
     "metadata": {},
     "output_type": "execute_result"
    }
   ],
   "source": [
    "test = pd.read_csv('test.csv')\n",
    "test.head()"
   ],
   "metadata": {
    "collapsed": false,
    "pycharm": {
     "name": "#%%\n"
    }
   }
  },
  {
   "cell_type": "code",
   "execution_count": 3,
   "outputs": [
    {
     "name": "stdout",
     "output_type": "stream",
     "text": [
      "(153164,)\n",
      "0         Yo bitch Ja Rule is more succesful then you'll...\n",
      "1         == From RfC == \\n\\n The title is fine as it is...\n",
      "2         \" \\n\\n == Sources == \\n\\n * Zawe Ashton on Lap...\n",
      "3         :If you have a look back at the source, the in...\n",
      "4                 I don't anonymously edit articles at all.\n",
      "                                ...                        \n",
      "153159    . \\n i totally agree, this stuff is nothing bu...\n",
      "153160    == Throw from out field to home plate. == \\n\\n...\n",
      "153161    \" \\n\\n == Okinotorishima categories == \\n\\n I ...\n",
      "153162    \" \\n\\n == \"\"One of the founding nations of the...\n",
      "153163    \" \\n :::Stop already. Your bullshit is not wel...\n",
      "Name: comment_text, Length: 153164, dtype: object\n",
      "(153164, 6)\n",
      "        toxic  severe_toxic  obscene  threat  insult  identity_hate\n",
      "0          -1            -1       -1      -1      -1             -1\n",
      "1          -1            -1       -1      -1      -1             -1\n",
      "2          -1            -1       -1      -1      -1             -1\n",
      "3          -1            -1       -1      -1      -1             -1\n",
      "4          -1            -1       -1      -1      -1             -1\n",
      "...       ...           ...      ...     ...     ...            ...\n",
      "153159     -1            -1       -1      -1      -1             -1\n",
      "153160     -1            -1       -1      -1      -1             -1\n",
      "153161     -1            -1       -1      -1      -1             -1\n",
      "153162     -1            -1       -1      -1      -1             -1\n",
      "153163     -1            -1       -1      -1      -1             -1\n",
      "\n",
      "[153164 rows x 6 columns]\n"
     ]
    }
   ],
   "source": [
    "test_labels = pd.read_csv('test_labels.csv')\n",
    "test_labels.head()\n",
    "\n",
    "y_test = test.loc[:,'comment_text']\n",
    "print(y_test.shape)\n",
    "print(y_test)\n",
    "\n",
    "x_test = test_labels.loc[:,['toxic','severe_toxic','obscene','threat','insult','identity_hate']]\n",
    "print(x_test.shape)\n",
    "print(x_test)"
   ],
   "metadata": {
    "collapsed": false,
    "pycharm": {
     "name": "#%%\n"
    }
   }
  },
  {
   "cell_type": "code",
   "execution_count": 4,
   "outputs": [
    {
     "name": "stdout",
     "output_type": "stream",
     "text": [
      "[\"Explanation\\nWhy the edits made under my username Hardcore Metallica Fan were reverted? They weren't vandalisms, just closure on some GAs after I voted at New York Dolls FAC. And please don't remove the template from the talk page since I'm retired now.89.205.38.27\"\n",
      " \"D'aww! He matches this background colour I'm seemingly stuck with. Thanks.  (talk) 21:51, January 11, 2016 (UTC)\"\n",
      " \"Hey man, I'm really not trying to edit war. It's just that this guy is constantly removing relevant information and talking to me through edits instead of my talk page. He seems to care more about the formatting than the actual info.\"\n",
      " ...\n",
      " 'Spitzer \\n\\nUmm, theres no actual article for prostitution ring.  - Crunch Captain.'\n",
      " 'And it looks like it was actually you who put on the speedy to have the first version deleted now that I look at it.'\n",
      " '\"\\nAnd ... I really don\\'t think you understand.  I came here and my idea was bad right away.  What kind of community goes \"\"you have bad ideas\"\" go away, instead of helping rewrite them.   \"']\n",
      "[[0 0 0 0 0 0]\n",
      " [0 0 0 0 0 0]\n",
      " [0 0 0 0 0 0]\n",
      " ...\n",
      " [0 0 0 0 0 0]\n",
      " [0 0 0 0 0 0]\n",
      " [0 0 0 0 0 0]]\n"
     ]
    }
   ],
   "source": [
    "train = pd.read_csv('train.csv')\n",
    "#train.head()\n",
    "\n",
    "y_train = train['comment_text'].values\n",
    "x_trainLabels = [\"toxic\",\"severe_toxic\", \"obscene\", \"threat\", \"insult\", \"identity_hate\"]\n",
    "x_train = train[x_trainLabels].values\n",
    "print(y_train)\n",
    "print(x_train)"
   ],
   "metadata": {
    "collapsed": false,
    "pycharm": {
     "name": "#%%\n"
    }
   }
  },
  {
   "cell_type": "code",
   "execution_count": 5,
   "outputs": [],
   "source": [
    "from keras.preprocessing import text, sequence\n",
    "from keras.preprocessing.text import Tokenizer\n",
    "\n",
    "tokenizer = Tokenizer(num_words=20000)\n",
    "tokenizer.fit_on_texts(list(y_train))\n",
    "\n",
    "seq = tokenizer.texts_to_sequences(y_train)\n",
    "pad = sequence.pad_sequences(seq, maxlen=100)"
   ],
   "metadata": {
    "collapsed": false,
    "pycharm": {
     "name": "#%%\n"
    }
   }
  },
  {
   "cell_type": "code",
   "execution_count": 6,
   "outputs": [],
   "source": [
    "from sklearn.model_selection import train_test_split\n",
    "\n",
    "trainData, testData, trainLabel, testLabel = train_test_split(x_train, y_train, test_size=.2, random_state=0)"
   ],
   "metadata": {
    "collapsed": false,
    "pycharm": {
     "name": "#%%\n"
    }
   }
  },
  {
   "cell_type": "code",
   "execution_count": 7,
   "outputs": [],
   "source": [
    "test = test['comment_text'].values\n",
    "test_seq = tokenizer.texts_to_sequences(test)\n",
    "test_pad = sequence.pad_sequences(test_seq, maxlen=100)"
   ],
   "metadata": {
    "collapsed": false,
    "pycharm": {
     "name": "#%%\n"
    }
   }
  },
  {
   "cell_type": "code",
   "execution_count": 8,
   "outputs": [
    {
     "name": "stdout",
     "output_type": "stream",
     "text": [
      "Model: \"model\"\n",
      "_________________________________________________________________\n",
      " Layer (type)                Output Shape              Param #   \n",
      "=================================================================\n",
      " input_1 (InputLayer)        [(None, 100)]             0         \n",
      "                                                                 \n",
      " embedding (Embedding)       (None, 100, 128)          2560000   \n",
      "                                                                 \n",
      " bidirectional (Bidirectiona  (None, 100)              71600     \n",
      " l)                                                              \n",
      "                                                                 \n",
      " dropout (Dropout)           (None, 100)               0         \n",
      "                                                                 \n",
      " dense (Dense)               (None, 50)                5050      \n",
      "                                                                 \n",
      " dropout_1 (Dropout)         (None, 50)                0         \n",
      "                                                                 \n",
      " dense_1 (Dense)             (None, 6)                 306       \n",
      "                                                                 \n",
      "=================================================================\n",
      "Total params: 2,636,956\n",
      "Trainable params: 2,636,956\n",
      "Non-trainable params: 0\n",
      "_________________________________________________________________\n"
     ]
    }
   ],
   "source": [
    "from keras.layers import Dense, Input, LSTM, Embedding, Dropout, Activation\n",
    "from keras.layers import Bidirectional, GlobalMaxPool1D\n",
    "from keras.models import Model\n",
    "from keras import initializers, regularizers, constraints, optimizers, layers\n",
    "\n",
    "input = keras.layers.Input(shape=[100,])\n",
    "embed = keras.layers.Embedding(20000,128)(input)\n",
    "bidirectional = keras.layers.Bidirectional(LSTM(50))(embed)\n",
    "drop1 = keras.layers.Dropout(0.1)(bidirectional)\n",
    "dense1 = keras.layers.Dense(50, activation=\"relu\")(drop1)\n",
    "drop2 = keras.layers.Dropout(0.1)(dense1)\n",
    "output = keras.layers.Dense(6, activation=\"sigmoid\")(drop2)\n",
    "model = keras.Model(inputs=[input], outputs=[output])\n",
    "\n",
    "model.summary()\n",
    "\n",
    "model.compile(loss=\"binary_crossentropy\", optimizer=\"adam\", metrics=[\"accuracy\"])"
   ],
   "metadata": {
    "collapsed": false,
    "pycharm": {
     "name": "#%%\n"
    }
   }
  },
  {
   "cell_type": "code",
   "execution_count": 9,
   "outputs": [
    {
     "name": "stdout",
     "output_type": "stream",
     "text": [
      "Epoch 1/2\n",
      "4488/4488 [==============================] - 275s 61ms/step - loss: 0.0642 - accuracy: 0.9611 - val_loss: 0.0506 - val_accuracy: 0.9940\n",
      "Epoch 2/2\n",
      "4488/4488 [==============================] - 374s 83ms/step - loss: 0.0459 - accuracy: 0.9887 - val_loss: 0.0489 - val_accuracy: 0.9940\n"
     ]
    }
   ],
   "source": [
    "from keras.callbacks import EarlyStopping, ModelCheckpoint\n",
    "early = EarlyStopping(monitor=\"val_loss\", mode=\"min\", patience=20)\n",
    "\n",
    "with tf.device(\"/device:GPU:1\"):\n",
    "    history = model.fit(pad, x_train, batch_size=32, epochs=2, validation_split=0.1, callbacks=early)\n",
    "\n",
    "#history = model.fit(trainData, trainLabel, epochs=30, validation_data=(x_test, y_test))"
   ],
   "metadata": {
    "collapsed": false,
    "pycharm": {
     "name": "#%%\n"
    }
   }
  },
  {
   "cell_type": "code",
   "execution_count": 10,
   "outputs": [
    {
     "name": "stdout",
     "output_type": "stream",
     "text": [
      "150/150 [==============================] - 43s 270ms/step\n",
      "[[9.9602079e-01 2.0094967e-01 9.6072388e-01 9.0085566e-03 7.4036956e-01\n",
      "  5.7566702e-02]\n",
      " [1.0940731e-03 7.3021027e-07 1.0978536e-04 3.3353617e-06 1.4755130e-04\n",
      "  1.4241241e-05]\n",
      " [4.5450032e-03 4.2790475e-06 4.7692657e-04 2.1199079e-05 5.8734417e-04\n",
      "  7.8446290e-05]\n",
      " ...\n",
      " [4.3523610e-03 8.0945438e-06 5.8281422e-04 3.2968102e-05 7.2625279e-04\n",
      "  1.1745698e-04]\n",
      " [2.3906529e-03 7.8725077e-07 1.5121698e-04 5.0918611e-06 2.1156669e-04\n",
      "  2.1712069e-05]\n",
      " [9.8343658e-01 1.0046226e-01 8.9887404e-01 4.9400032e-03 6.0669422e-01\n",
      "  4.1567951e-02]]\n",
      "4787/4787 - 68s - loss: -3.3004e+00 - accuracy: 0.9990 - 68s/epoch - 14ms/step\n"
     ]
    },
    {
     "data": {
      "text/plain": "[-3.300426721572876, 0.9989749789237976]"
     },
     "execution_count": 10,
     "metadata": {},
     "output_type": "execute_result"
    }
   ],
   "source": [
    "y_proba = model.predict(test_pad, batch_size=1024, verbose=1)\n",
    "print(y_proba)\n",
    "model.evaluate(test_pad, x_test, batch_size=32, verbose=2)"
   ],
   "metadata": {
    "collapsed": false,
    "pycharm": {
     "name": "#%%\n"
    }
   }
  },
  {
   "cell_type": "code",
   "execution_count": 11,
   "outputs": [
    {
     "name": "stdout",
     "output_type": "stream",
     "text": [
      "Model: \"model_1\"\n",
      "_________________________________________________________________\n",
      " Layer (type)                Output Shape              Param #   \n",
      "=================================================================\n",
      " input_2 (InputLayer)        [(None, 100)]             0         \n",
      "                                                                 \n",
      " embedding_1 (Embedding)     (None, 100, 128)          2560000   \n",
      "                                                                 \n",
      " bidirectional_1 (Bidirectio  (None, 100)              54000     \n",
      " nal)                                                            \n",
      "                                                                 \n",
      " dropout_2 (Dropout)         (None, 100)               0         \n",
      "                                                                 \n",
      " dense_2 (Dense)             (None, 50)                5050      \n",
      "                                                                 \n",
      " dropout_3 (Dropout)         (None, 50)                0         \n",
      "                                                                 \n",
      " dense_3 (Dense)             (None, 6)                 306       \n",
      "                                                                 \n",
      "=================================================================\n",
      "Total params: 2,619,356\n",
      "Trainable params: 2,619,356\n",
      "Non-trainable params: 0\n",
      "_________________________________________________________________\n",
      "Epoch 1/2\n",
      "3990/3990 [==============================] - 256s 63ms/step - loss: 0.0623 - accuracy: 0.9462 - val_loss: 0.0489 - val_accuracy: 0.9941\n",
      "Epoch 2/2\n",
      "3990/3990 [==============================] - 241s 60ms/step - loss: 0.0446 - accuracy: 0.9601 - val_loss: 0.0496 - val_accuracy: 0.9928\n"
     ]
    },
    {
     "data": {
      "text/plain": "<matplotlib.legend.Legend at 0x1f682a048e0>"
     },
     "execution_count": 11,
     "metadata": {},
     "output_type": "execute_result"
    },
    {
     "data": {
      "text/plain": "<Figure size 432x288 with 1 Axes>",
      "image/png": "[encoded data removed]"
     },
     "metadata": {
      "needs_background": "light"
     },
     "output_type": "display_data"
    }
   ],
   "source": [
    "from keras.layers import GRU\n",
    "import matplotlib.pyplot as plt\n",
    "\n",
    "# NN 2\n",
    "\n",
    "input = keras.layers.Input(shape=[100,])\n",
    "embed = keras.layers.Embedding(20000,128)(input)\n",
    "bidirectional = keras.layers.Bidirectional(GRU(50))(embed)\n",
    "flat = keras.layers.Flatten(input_shape=[100,])(bidirectional)\n",
    "drop1 = keras.layers.Dropout(0.1)(bidirectional)\n",
    "dense1 = keras.layers.Dense(50, activation=\"relu\")(drop1)\n",
    "drop2 = keras.layers.Dropout(0.1)(dense1)\n",
    "output = keras.layers.Dense(6, activation=\"sigmoid\")(drop2)\n",
    "model2 = keras.Model(inputs=[input], outputs=[output])\n",
    "\n",
    "model2.summary()\n",
    "\n",
    "model2.compile(loss=\"binary_crossentropy\", optimizer=\"adam\", metrics=[\"accuracy\"])\n",
    "\n",
    "with tf.device(\"/device:GPU:1\"):\n",
    "    history2 = model2.fit(pad, x_train, batch_size=32, epochs=2, validation_split=0.2, callbacks=early)\n",
    "\n",
    "plt.plot(history2.history['accuracy'])\n",
    "plt.plot(history2.history['val_accuracy'])\n",
    "plt.title('model 2 accuracy')\n",
    "plt.ylabel('accuracy')\n",
    "plt.xlabel('epoch')\n",
    "plt.legend(['train', 'validation'], loc='lower right')"
   ],
   "metadata": {
    "collapsed": false,
    "pycharm": {
     "name": "#%%\n"
    }
   }
  },
  {
   "cell_type": "code",
   "execution_count": 12,
   "outputs": [
    {
     "name": "stdout",
     "output_type": "stream",
     "text": [
      "Model: \"model_2\"\n",
      "__________________________________________________________________________________________________\n",
      " Layer (type)                   Output Shape         Param #     Connected to                     \n",
      "==================================================================================================\n",
      " input_3 (InputLayer)           [(None, 100)]        0           []                               \n",
      "                                                                                                  \n",
      " embedding_2 (Embedding)        (None, 100, 128)     2560000     ['input_3[0][0]']                \n",
      "                                                                                                  \n",
      " bidirectional_2 (Bidirectional  (None, 100)         71600       ['embedding_2[0][0]']            \n",
      " )                                                                                                \n",
      "                                                                                                  \n",
      " bidirectional_3 (Bidirectional  (None, 100)         54000       ['embedding_2[0][0]']            \n",
      " )                                                                                                \n",
      "                                                                                                  \n",
      " concatenate (Concatenate)      (None, 200)          0           ['bidirectional_2[0][0]',        \n",
      "                                                                  'bidirectional_3[0][0]']        \n",
      "                                                                                                  \n",
      " flatten_1 (Flatten)            (None, 200)          0           ['concatenate[0][0]']            \n",
      "                                                                                                  \n",
      " dropout_4 (Dropout)            (None, 200)          0           ['flatten_1[0][0]']              \n",
      "                                                                                                  \n",
      " dense_4 (Dense)                (None, 50)           10050       ['dropout_4[0][0]']              \n",
      "                                                                                                  \n",
      " dropout_5 (Dropout)            (None, 50)           0           ['dense_4[0][0]']                \n",
      "                                                                                                  \n",
      " dense_5 (Dense)                (None, 6)            306         ['dropout_5[0][0]']              \n",
      "                                                                                                  \n",
      "==================================================================================================\n",
      "Total params: 2,695,956\n",
      "Trainable params: 2,695,956\n",
      "Non-trainable params: 0\n",
      "__________________________________________________________________________________________________\n",
      "Epoch 1/5\n",
      "3990/3990 [==============================] - 327s 81ms/step - loss: 0.0643 - accuracy: 0.9360 - val_loss: 0.0502 - val_accuracy: 0.9939\n",
      "Epoch 2/5\n",
      "3990/3990 [==============================] - 319s 80ms/step - loss: 0.0460 - accuracy: 0.9801 - val_loss: 0.0507 - val_accuracy: 0.9929\n",
      "Epoch 3/5\n",
      "3990/3990 [==============================] - 327s 82ms/step - loss: 0.0390 - accuracy: 0.9222 - val_loss: 0.0503 - val_accuracy: 0.9834\n",
      "Epoch 4/5\n",
      "3990/3990 [==============================] - 309s 77ms/step - loss: 0.0329 - accuracy: 0.8631 - val_loss: 0.0544 - val_accuracy: 0.9895\n",
      "Epoch 5/5\n",
      "3990/3990 [==============================] - 311s 78ms/step - loss: 0.0273 - accuracy: 0.8342 - val_loss: 0.0620 - val_accuracy: 0.9410\n"
     ]
    },
    {
     "data": {
      "text/plain": "<matplotlib.legend.Legend at 0x1f6830c1ca0>"
     },
     "execution_count": 12,
     "metadata": {},
     "output_type": "execute_result"
    },
    {
     "data": {
      "text/plain": "<Figure size 432x288 with 1 Axes>",
      "image/png": "[encoded data removed]"
     },
     "metadata": {
      "needs_background": "light"
     },
     "output_type": "display_data"
    }
   ],
   "source": [
    "# NN 3\n",
    "\n",
    "input = keras.layers.Input(shape=[100,])\n",
    "embed = keras.layers.Embedding(20000,128)(input)\n",
    "bi1 = keras.layers.Bidirectional(LSTM(50))(embed)\n",
    "bi2 = keras.layers.Bidirectional(GRU(50))(embed)\n",
    "concat = keras.layers.Concatenate()([bi1, bi2])\n",
    "flat = keras.layers.Flatten(input_shape=[100,])(concat)\n",
    "drop1 = keras.layers.Dropout(0.1)(flat)\n",
    "dense1 = keras.layers.Dense(50, activation=\"relu\")(drop1)\n",
    "drop2 = keras.layers.Dropout(0.1)(dense1)\n",
    "output = keras.layers.Dense(6, activation=\"sigmoid\")(drop2)\n",
    "model3 = keras.Model(inputs=[input], outputs=[output])\n",
    "\n",
    "model3.summary()\n",
    "\n",
    "model3.compile(loss=\"binary_crossentropy\", optimizer=\"adam\", metrics=[\"accuracy\"])\n",
    "\n",
    "with tf.device(\"/device:GPU:1\"):\n",
    "    history3 = model3.fit(pad, x_train, batch_size=32, epochs=5, validation_split=0.2, callbacks=early)\n",
    "\n",
    "plt.plot(history3.history['accuracy'])\n",
    "plt.plot(history3.history['val_accuracy'])\n",
    "plt.title('model 3 accuracy')\n",
    "plt.ylabel('accuracy')\n",
    "plt.xlabel('epoch')\n",
    "plt.legend(['train', 'validation'], loc='lower right')"
   ],
   "metadata": {
    "collapsed": false,
    "pycharm": {
     "name": "#%%\n"
    }
   }
  },
  {
   "cell_type": "code",
   "execution_count": 13,
   "outputs": [
    {
     "name": "stdout",
     "output_type": "stream",
     "text": [
      "Model: \"model_3\"\n",
      "__________________________________________________________________________________________________\n",
      " Layer (type)                   Output Shape         Param #     Connected to                     \n",
      "==================================================================================================\n",
      " input_4 (InputLayer)           [(None, 100)]        0           []                               \n",
      "                                                                                                  \n",
      " embedding_3 (Embedding)        (None, 100, 128)     2560000     ['input_4[0][0]']                \n",
      "                                                                                                  \n",
      " bidirectional_4 (Bidirectional  (None, 200)         183200      ['embedding_3[0][0]']            \n",
      " )                                                                                                \n",
      "                                                                                                  \n",
      " bidirectional_5 (Bidirectional  (None, 200)         138000      ['embedding_3[0][0]']            \n",
      " )                                                                                                \n",
      "                                                                                                  \n",
      " concatenate_1 (Concatenate)    (None, 400)          0           ['bidirectional_4[0][0]',        \n",
      "                                                                  'bidirectional_5[0][0]']        \n",
      "                                                                                                  \n",
      " flatten_2 (Flatten)            (None, 400)          0           ['concatenate_1[0][0]']          \n",
      "                                                                                                  \n",
      " dropout_6 (Dropout)            (None, 400)          0           ['flatten_2[0][0]']              \n",
      "                                                                                                  \n",
      " dense_6 (Dense)                (None, 50)           20050       ['dropout_6[0][0]']              \n",
      "                                                                                                  \n",
      " dropout_7 (Dropout)            (None, 50)           0           ['dense_6[0][0]']                \n",
      "                                                                                                  \n",
      " dense_7 (Dense)                (None, 6)            306         ['dropout_7[0][0]']              \n",
      "                                                                                                  \n",
      "==================================================================================================\n",
      "Total params: 2,901,556\n",
      "Trainable params: 2,901,556\n",
      "Non-trainable params: 0\n",
      "__________________________________________________________________________________________________\n",
      "Epoch 1/5\n",
      "3990/3990 [==============================] - 449s 111ms/step - loss: 0.0612 - accuracy: 0.9444 - val_loss: 0.0505 - val_accuracy: 0.9941\n",
      "Epoch 2/5\n",
      "3990/3990 [==============================] - 448s 112ms/step - loss: 0.0453 - accuracy: 0.9610 - val_loss: 0.0488 - val_accuracy: 0.9873\n",
      "Epoch 3/5\n",
      "3990/3990 [==============================] - 452s 113ms/step - loss: 0.0379 - accuracy: 0.9420 - val_loss: 0.0531 - val_accuracy: 0.9941\n",
      "Epoch 4/5\n",
      "3990/3990 [==============================] - 453s 114ms/step - loss: 0.0317 - accuracy: 0.8921 - val_loss: 0.0543 - val_accuracy: 0.9895\n",
      "Epoch 5/5\n",
      "3990/3990 [==============================] - 456s 114ms/step - loss: 0.0262 - accuracy: 0.8264 - val_loss: 0.0617 - val_accuracy: 0.8800\n"
     ]
    },
    {
     "data": {
      "text/plain": "<matplotlib.legend.Legend at 0x1f68ee3a580>"
     },
     "execution_count": 13,
     "metadata": {},
     "output_type": "execute_result"
    },
    {
     "data": {
      "text/plain": "<Figure size 432x288 with 1 Axes>",
      "image/png": "[encoded data removed]"
     },
     "metadata": {
      "needs_background": "light"
     },
     "output_type": "display_data"
    }
   ],
   "source": [
    "# NN 4\n",
    "\n",
    "input = keras.layers.Input(shape=[100,])\n",
    "embed = keras.layers.Embedding(20000,128)(input)\n",
    "bi1 = keras.layers.Bidirectional(LSTM(100))(embed)\n",
    "bi2 = keras.layers.Bidirectional(GRU(100))(embed)\n",
    "concat = keras.layers.Concatenate()([bi1, bi2])\n",
    "flat = keras.layers.Flatten(input_shape=[100,])(concat)\n",
    "drop1 = keras.layers.Dropout(0.1)(flat)\n",
    "dense1 = keras.layers.Dense(50, activation=\"relu\")(drop1)\n",
    "drop2 = keras.layers.Dropout(0.1)(dense1)\n",
    "output = keras.layers.Dense(6, activation=\"sigmoid\")(drop2)\n",
    "model4 = keras.Model(inputs=[input], outputs=[output])\n",
    "\n",
    "model4.summary()\n",
    "\n",
    "model4.compile(loss=\"binary_crossentropy\", optimizer=\"adam\", metrics=[\"accuracy\"])\n",
    "\n",
    "with tf.device(\"/device:GPU:1\"):\n",
    "    history4 = model4.fit(pad, x_train, batch_size=32, epochs=5, validation_split=0.2, callbacks=early)\n",
    "\n",
    "plt.plot(history4.history['accuracy'])\n",
    "plt.plot(history4.history['val_accuracy'])\n",
    "plt.title('model 4 accuracy')\n",
    "plt.ylabel('accuracy')\n",
    "plt.xlabel('epoch')\n",
    "plt.legend(['train', 'validation'], loc='lower right')"
   ],
   "metadata": {
    "collapsed": false,
    "pycharm": {
     "name": "#%%\n"
    }
   }
  },
  {
   "cell_type": "code",
   "execution_count": 14,
   "outputs": [
    {
     "name": "stdout",
     "output_type": "stream",
     "text": [
      "Model: \"model_4\"\n",
      "__________________________________________________________________________________________________\n",
      " Layer (type)                   Output Shape         Param #     Connected to                     \n",
      "==================================================================================================\n",
      " input_5 (InputLayer)           [(None, 100)]        0           []                               \n",
      "                                                                                                  \n",
      " embedding_4 (Embedding)        (None, 100, 128)     2560000     ['input_5[0][0]']                \n",
      "                                                                                                  \n",
      " bidirectional_6 (Bidirectional  (None, 200)         183200      ['embedding_4[0][0]']            \n",
      " )                                                                                                \n",
      "                                                                                                  \n",
      " bidirectional_7 (Bidirectional  (None, 200)         138000      ['embedding_4[0][0]']            \n",
      " )                                                                                                \n",
      "                                                                                                  \n",
      " concatenate_2 (Concatenate)    (None, 400)          0           ['bidirectional_6[0][0]',        \n",
      "                                                                  'bidirectional_7[0][0]']        \n",
      "                                                                                                  \n",
      " flatten_3 (Flatten)            (None, 400)          0           ['concatenate_2[0][0]']          \n",
      "                                                                                                  \n",
      " dropout_8 (Dropout)            (None, 400)          0           ['flatten_3[0][0]']              \n",
      "                                                                                                  \n",
      " dense_8 (Dense)                (None, 50)           20050       ['dropout_8[0][0]']              \n",
      "                                                                                                  \n",
      " dropout_9 (Dropout)            (None, 50)           0           ['dense_8[0][0]']                \n",
      "                                                                                                  \n",
      " dense_9 (Dense)                (None, 6)            306         ['dropout_9[0][0]']              \n",
      "                                                                                                  \n",
      "==================================================================================================\n",
      "Total params: 2,901,556\n",
      "Trainable params: 2,901,556\n",
      "Non-trainable params: 0\n",
      "__________________________________________________________________________________________________\n",
      "Epoch 1/5\n",
      "998/998 [==============================] - 1346s 1s/step - loss: 0.0724 - accuracy: 0.8800 - val_loss: 0.0499 - val_accuracy: 0.9941\n",
      "Epoch 2/5\n",
      "998/998 [==============================] - 1149s 1s/step - loss: 0.0468 - accuracy: 0.9615 - val_loss: 0.0508 - val_accuracy: 0.9940\n",
      "Epoch 3/5\n",
      "998/998 [==============================] - 1173s 1s/step - loss: 0.0416 - accuracy: 0.9394 - val_loss: 0.0508 - val_accuracy: 0.9932\n",
      "Epoch 4/5\n",
      "998/998 [==============================] - 1208s 1s/step - loss: 0.0362 - accuracy: 0.9242 - val_loss: 0.0535 - val_accuracy: 0.9610\n",
      "Epoch 5/5\n",
      "998/998 [==============================] - 1125s 1s/step - loss: 0.0308 - accuracy: 0.8031 - val_loss: 0.0604 - val_accuracy: 0.9384\n"
     ]
    },
    {
     "data": {
      "text/plain": "<matplotlib.legend.Legend at 0x1f68f9660a0>"
     },
     "execution_count": 14,
     "metadata": {},
     "output_type": "execute_result"
    },
    {
     "data": {
      "text/plain": "<Figure size 432x288 with 1 Axes>",
      "image/png": "[encoded data removed]"
     },
     "metadata": {
      "needs_background": "light"
     },
     "output_type": "display_data"
    }
   ],
   "source": [
    "# NN 5\n",
    "\n",
    "input = keras.layers.Input(shape=[100,])\n",
    "embed = keras.layers.Embedding(20000,128)(input)\n",
    "bi1 = keras.layers.Bidirectional(LSTM(100))(embed)\n",
    "bi2 = keras.layers.Bidirectional(GRU(100))(embed)\n",
    "concat = keras.layers.Concatenate()([bi1, bi2])\n",
    "flat = keras.layers.Flatten(input_shape=[100,])(concat)\n",
    "drop1 = keras.layers.Dropout(0.1)(flat)\n",
    "dense1 = keras.layers.Dense(50, activation=\"relu\")(drop1)\n",
    "drop2 = keras.layers.Dropout(0.1)(dense1)\n",
    "output = keras.layers.Dense(6, activation=\"sigmoid\")(drop2)\n",
    "model5 = keras.Model(inputs=[input], outputs=[output])\n",
    "\n",
    "model5.summary()\n",
    "\n",
    "model5.compile(loss=\"binary_crossentropy\", optimizer=\"adam\", metrics=[\"accuracy\"])\n",
    "\n",
    "with tf.device(\"/device:GPU:1\"):\n",
    "    history5 = model5.fit(pad, x_train, batch_size=128, epochs=5, validation_split=0.2, callbacks=early)\n",
    "\n",
    "plt.plot(history5.history['accuracy'])\n",
    "plt.plot(history5.history['val_accuracy'])\n",
    "plt.title('model 5 accuracy')\n",
    "plt.ylabel('accuracy')\n",
    "plt.xlabel('epoch')\n",
    "plt.legend(['train', 'validation'], loc='lower right')"
   ],
   "metadata": {
    "collapsed": false,
    "pycharm": {
     "name": "#%%\n"
    }
   }
  },
  {
   "cell_type": "code",
   "execution_count": 14,
   "outputs": [],
   "source": [],
   "metadata": {
    "collapsed": false,
    "pycharm": {
     "name": "#%%\n"
    }
   }
  }
 ],
 "metadata": {
  "kernelspec": {
   "display_name": "Python 3",
   "language": "python",
   "name": "python3"
  },
  "language_info": {
   "codemirror_mode": {
    "name": "ipython",
    "version": 2
   },
   "file_extension": ".py",
   "mimetype": "text/x-python",
   "name": "python",
   "nbconvert_exporter": "python",
   "pygments_lexer": "ipython2",
   "version": "2.7.6"
  }
 },
 "nbformat": 4,
 "nbformat_minor": 0
}