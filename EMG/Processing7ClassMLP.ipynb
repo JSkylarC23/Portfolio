{
 "cells": [
  {
   "cell_type": "code",
   "execution_count": 1,
   "metadata": {},
   "outputs": [
    {
     "name": "stdout",
     "output_type": "stream",
     "text": [
      "   8.695652173913043584e-03  ...  1.739130434782608717e-02.8942\n",
      "0                  0.011494  ...                       0.011494\n",
      "1                  0.000000  ...                       0.033333\n",
      "2                  0.023256  ...                       0.081395\n",
      "3                  0.070312  ...                       0.156250\n",
      "4                  0.015625  ...                       0.039062\n",
      "5                  0.007812  ...                       0.007812\n",
      "6                  0.031250  ...                       0.015625\n",
      "\n",
      "[7 rows x 49020 columns]\n"
     ]
    }
   ],
   "source": [
    "import pandas as pd\n",
    "import numpy as np\n",
    "import matplotlib.pyplot as plt\n",
    "\n",
    "mat = pd.read_csv('normMatAll.csv')\n",
    "print(mat)"
   ]
  },
  {
   "cell_type": "code",
   "execution_count": 2,
   "metadata": {},
   "outputs": [
    {
     "name": "stdout",
     "output_type": "stream",
     "text": [
      "                        0.0  ...                        245.095\n",
      "0  8.695652173913043584e-03  ...  1.739130434782608717e-02.8942\n",
      "1                 0.0114943  ...                      0.0114943\n",
      "2                         0  ...                      0.0333333\n",
      "3                 0.0232558  ...                      0.0813953\n",
      "4                 0.0703125  ...                        0.15625\n",
      "5                  0.015625  ...                      0.0390625\n",
      "6                 0.0078125  ...                      0.0078125\n",
      "7                   0.03125  ...                       0.015625\n",
      "\n",
      "[8 rows x 49020 columns]\n"
     ]
    }
   ],
   "source": [
    "newMat = (mat.T.reset_index().T.reset_index(drop=True).set_axis([f'{i*.005}' for i in range(mat.shape[1])], axis=1)) #turn index into time stamp?\n",
    "newMat = newMat.iloc[0:8,:]\n",
    "print(newMat)"
   ]
  },
  {
   "cell_type": "code",
   "execution_count": 4,
   "metadata": {},
   "outputs": [],
   "source": [
    "#Plotting"
   ]
  },
  {
   "cell_type": "code",
   "execution_count": 5,
   "metadata": {},
   "outputs": [
    {
     "name": "stdout",
     "output_type": "stream",
     "text": [
      "(7, 49020)\n",
      "1.000000000000000000e+00\n",
      "                        0.0  ...                         245.095\n",
      "0  1.000000000000000000e+00  ...  0.000000000000000000e+00.41019\n",
      "1                         0  ...                               0\n",
      "2                         0  ...                               0\n",
      "3                         0  ...                               0\n",
      "4                         0  ...                               0\n",
      "5                         0  ...                               0\n",
      "6                         0  ...                               1\n",
      "\n",
      "[7 rows x 49020 columns]\n"
     ]
    }
   ],
   "source": [
    "targetMat = pd.read_csv('targetMat.csv')\n",
    "newTargetMat = (targetMat.T.reset_index().T.reset_index(drop=True).set_axis([f'{i*.005}' for i in range(targetMat.shape[1])], axis=1))\n",
    "newTargetMat = newTargetMat.iloc[0:7,:]\n",
    "print(newTargetMat.shape)\n",
    "print(newTargetMat.iloc[0,0])\n",
    "print(newTargetMat)"
   ]
  },
  {
   "cell_type": "code",
   "execution_count": 6,
   "metadata": {},
   "outputs": [
    {
     "name": "stdout",
     "output_type": "stream",
     "text": [
      "[1. 1. 1. ... 7. 7. 7.]\n"
     ]
    }
   ],
   "source": [
    "#Target Data\n",
    "\n",
    "targetData = np.zeros(newTargetMat.shape[1])\n",
    "\n",
    "for i in range(newTargetMat.shape[1]):\n",
    "    #print(\"i = \", i)\n",
    "    for j in range(newTargetMat.shape[0]):\n",
    "        #print(\"j = \", j)\n",
    "        if newTargetMat.iloc[j,i] != 0:\n",
    "            targetData[i] = 1+j\n",
    "\n",
    "print(targetData)"
   ]
  },
  {
   "cell_type": "code",
   "execution_count": 5,
   "metadata": {},
   "outputs": [
    {
     "name": "stdout",
     "output_type": "stream",
     "text": [
      "        0.0     0.005      0.01  ...   245.085    245.09   245.095\n",
      "0  0.008696  0.000000  0.017391  ...  0.000000  0.000000  0.000000\n",
      "1  0.011494  0.034483  0.022989  ...  0.022989  0.000000  0.011494\n",
      "2  0.000000  0.000000  0.133333  ...  0.000000  0.066667  0.033333\n",
      "3  0.023256  0.023256  0.058140  ...  0.023256  0.046512  0.081395\n",
      "4  0.070312  0.015625  0.046875  ...  0.078125  0.023438  0.156250\n",
      "5  0.015625  0.007812  0.031250  ...  0.007812  0.031250  0.039062\n",
      "6  0.007812  0.023438  0.015625  ...  0.039062  0.039062  0.007812\n",
      "7  0.031250  0.007812  0.015625  ...  0.039062  0.085938  0.015625\n",
      "\n",
      "[8 rows x 49020 columns]\n",
      "[1. 1. 1. ... 7. 7. 7.]\n"
     ]
    }
   ],
   "source": [
    "#Training\n",
    "\n",
    "from sklearn.neural_network import MLPClassifier\n",
    "from sklearn.model_selection import train_test_split\n",
    "\n",
    "X = newMat.apply(pd.to_numeric, errors='coerce')\n",
    "X[np.isnan(X)] = 0\n",
    "Y = pd.to_numeric(targetData)\n",
    "#Y = targetData.apply(pd.to_numeric, errors='coerce')\n",
    "\n",
    "print(X)\n",
    "print(Y)"
   ]
  },
  {
   "cell_type": "code",
   "execution_count": 27,
   "metadata": {},
   "outputs": [
    {
     "name": "stdout",
     "output_type": "stream",
     "text": [
      "[[0.00969263 0.00966233 0.00966233 ... 0.         0.         0.        ]\n",
      " [0.02574713 0.0262069  0.0262069  ... 0.         0.         0.        ]\n",
      " [0.068      0.07       0.07133333 ... 0.         0.         0.        ]\n",
      " ...\n",
      " [0.         0.         0.         ... 0.         0.         0.        ]\n",
      " [0.0394594  0.0395754  0.03947045 ... 0.         0.         0.        ]\n",
      " [0.         0.         0.         ... 0.         0.         0.        ]]\n"
     ]
    }
   ],
   "source": [
    "#windowing\n",
    "sMat = np.zeros((2*X.shape[0],X.shape[1]))\n",
    "                \n",
    "for i in range(X.shape[1]-50):\n",
    "    #print(i)\n",
    "    for j in range(X.shape[0]):\n",
    "        #print(j)\n",
    "        sMat[j,i] = X.iloc[j,i:i+50].mean()\n",
    "        sMat[2*j,i] = X.iloc[j,i:i+50].std()\n",
    "        \n",
    "print(sMat)"
   ]
  },
  {
   "cell_type": "code",
   "execution_count": 57,
   "metadata": {},
   "outputs": [
    {
     "ename": "AttributeError",
     "evalue": "'list' object has no attribute 'iloc'",
     "output_type": "error",
     "traceback": [
      "\u001B[0;31m---------------------------------------------------------------------------\u001B[0m",
      "\u001B[0;31mAttributeError\u001B[0m                            Traceback (most recent call last)",
      "\u001B[0;32m<ipython-input-57-2d9261a898d2>\u001B[0m in \u001B[0;36m<module>\u001B[0;34m\u001B[0m\n\u001B[0;32m----> 1\u001B[0;31m \u001B[0mX\u001B[0m \u001B[0;34m=\u001B[0m \u001B[0mnp\u001B[0m\u001B[0;34m.\u001B[0m\u001B[0mstack\u001B[0m\u001B[0;34m(\u001B[0m\u001B[0;34m(\u001B[0m\u001B[0mX\u001B[0m\u001B[0;34m.\u001B[0m\u001B[0miloc\u001B[0m\u001B[0;34m[\u001B[0m\u001B[0;34m:\u001B[0m\u001B[0;34m,\u001B[0m\u001B[0;36m0\u001B[0m\u001B[0;34m:\u001B[0m\u001B[0msMat\u001B[0m\u001B[0;34m.\u001B[0m\u001B[0mshape\u001B[0m\u001B[0;34m[\u001B[0m\u001B[0;36m1\u001B[0m\u001B[0;34m]\u001B[0m\u001B[0;34m-\u001B[0m\u001B[0;36m51\u001B[0m\u001B[0;34m]\u001B[0m\u001B[0;34m,\u001B[0m\u001B[0msMat\u001B[0m\u001B[0;34m.\u001B[0m\u001B[0miloc\u001B[0m\u001B[0;34m[\u001B[0m\u001B[0;34m:\u001B[0m\u001B[0;34m,\u001B[0m\u001B[0;36m0\u001B[0m\u001B[0;34m:\u001B[0m\u001B[0msMat\u001B[0m\u001B[0;34m.\u001B[0m\u001B[0mshape\u001B[0m\u001B[0;34m[\u001B[0m\u001B[0;36m1\u001B[0m\u001B[0;34m]\u001B[0m\u001B[0;34m-\u001B[0m\u001B[0;36m51\u001B[0m\u001B[0;34m]\u001B[0m\u001B[0;34m)\u001B[0m\u001B[0;34m)\u001B[0m\u001B[0;34m\u001B[0m\u001B[0m\n\u001B[0m\u001B[1;32m      2\u001B[0m \u001B[0;31m#X = (X[:,1:sMat.shape[1]-51];sMat[:,1:sMat.shape[1]-51])\u001B[0m\u001B[0;34m\u001B[0m\u001B[0;34m\u001B[0m\u001B[0m\n\u001B[1;32m      3\u001B[0m \u001B[0mY\u001B[0m \u001B[0;34m=\u001B[0m \u001B[0mY\u001B[0m\u001B[0;34m[\u001B[0m\u001B[0;36m0\u001B[0m\u001B[0;34m:\u001B[0m\u001B[0mY\u001B[0m\u001B[0;34m.\u001B[0m\u001B[0mshape\u001B[0m\u001B[0;34m[\u001B[0m\u001B[0;36m0\u001B[0m\u001B[0;34m]\u001B[0m\u001B[0;34m-\u001B[0m\u001B[0;36m51\u001B[0m\u001B[0;34m]\u001B[0m\u001B[0;34m\u001B[0m\u001B[0m\n\u001B[1;32m      4\u001B[0m \u001B[0mprint\u001B[0m\u001B[0;34m(\u001B[0m\u001B[0mX\u001B[0m\u001B[0;34m)\u001B[0m\u001B[0;34m\u001B[0m\u001B[0m\n\u001B[1;32m      5\u001B[0m \u001B[0mprint\u001B[0m\u001B[0;34m(\u001B[0m\u001B[0mX\u001B[0m\u001B[0;34m.\u001B[0m\u001B[0mshape\u001B[0m\u001B[0;34m)\u001B[0m\u001B[0;34m\u001B[0m\u001B[0m\n",
      "\u001B[0;31mAttributeError\u001B[0m: 'list' object has no attribute 'iloc'"
     ]
    }
   ],
   "source": [
    "X = np.stack((X[:,0:sMat.shape[1]-51],sMat[:,0:sMat.shape[1]-51]))\n",
    "#X = (X[:,1:sMat.shape[1]-51];sMat[:,1:sMat.shape[1]-51])\n",
    "Y = Y[0:Y.shape[0]-51]\n",
    "print(X)\n",
    "print(X.shape)\n",
    "print(Y)"
   ]
  },
  {
   "cell_type": "code",
   "execution_count": 39,
   "metadata": {},
   "outputs": [
    {
     "name": "stderr",
     "output_type": "stream",
     "text": [
      "/var/mobile/Containers/Data/Application/C86495FF-E4D1-42D3-8C9B-BF36FD2C5961/Library/Application Support/com.rationalmatter.junoapp/python-home/lib/python3.6/site-packages/sklearn/neural_network/_multilayer_perceptron.py:585: ConvergenceWarning: Stochastic Optimizer: Maximum iterations (300) reached and the optimization hasn't converged yet.\n",
      "  % self.max_iter, ConvergenceWarning)\n"
     ]
    },
    {
     "data": {
      "text/plain": [
       "0.4507861956299775"
      ]
     },
     "execution_count": 39,
     "metadata": {},
     "output_type": "execute_result"
    }
   ],
   "source": [
    "x_train, x_test, y_train, y_test = train_test_split(np.transpose(X),np.transpose(Y),test_size=.2,random_state=0)\n",
    "\n",
    "model = MLPClassifier(hidden_layer_sizes=(100,),solver='adam',random_state = 0, max_iter=300).fit(x_train, y_train)\n",
    "model.predict_proba(x_test)\n",
    "model.predict(x_test)\n",
    "model.score(x_test,y_test)"
   ]
  },
  {
   "cell_type": "code",
   "execution_count": 40,
   "metadata": {},
   "outputs": [
    {
     "name": "stdout",
     "output_type": "stream",
     "text": [
      "[[3.33728249e-01 2.80318037e-01 5.51263192e-02 ... 1.58916540e-01\n",
      "  7.83981817e-02 5.76773498e-02]\n",
      " [2.26069554e-02 4.65826554e-01 4.68642632e-01 ... 3.11197134e-02\n",
      "  9.42588304e-04 7.18582841e-03]\n",
      " [1.15118421e-01 8.61233959e-02 2.77068657e-02 ... 1.57749298e-01\n",
      "  1.86484617e-01 2.41446011e-01]\n",
      " ...\n",
      " [1.54575246e-01 1.45583854e-01 8.34184237e-02 ... 2.00920467e-01\n",
      "  1.20407520e-01 1.19952277e-01]\n",
      " [5.30983270e-04 5.79210794e-03 1.21787714e-02 ... 2.09322560e-03\n",
      "  8.74103943e-01 1.05300968e-01]\n",
      " [5.25945845e-02 7.49651893e-03 1.01427217e-01 ... 2.24254997e-01\n",
      "  5.16011474e-02 4.57520628e-01]]\n",
      "[1. 3. 7. ... 5. 6. 7.]\n",
      "0.4507861956299775\n"
     ]
    }
   ],
   "source": [
    "print(model.predict_proba(x_test))\n",
    "print(model.predict(x_test))\n",
    "print(model.score(x_test,y_test))"
   ]
  },
  {
   "cell_type": "code",
   "execution_count": 24,
   "metadata": {},
   "outputs": [
    {
     "name": "stdout",
     "output_type": "stream",
     "text": [
      "[1, 2, 3, 4, 5]\n"
     ]
    }
   ],
   "source": [
    "a = [1,2,3,4,5,6,7,8,9]\n",
    "print(a[:5])"
   ]
  }
 ],
 "metadata": {
  "kernelspec": {
   "display_name": "Python 3",
   "language": "python",
   "name": "python3"
  },
  "language_info": {
   "codemirror_mode": {
    "name": "ipython",
    "version": 3
   },
   "file_extension": ".py",
   "mimetype": "text/x-python",
   "name": "python",
   "nbconvert_exporter": "python",
   "pygments_lexer": "ipython3",
   "version": "3.6.6+"
  }
 },
 "nbformat": 4,
 "nbformat_minor": 2
}