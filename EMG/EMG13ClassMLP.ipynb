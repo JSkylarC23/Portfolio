{
 "cells": [
  {
   "cell_type": "code",
   "execution_count": 1,
   "metadata": {
    "collapsed": true
   },
   "outputs": [],
   "source": [
    "import pandas as pd\n",
    "import numpy as np"
   ]
  },
  {
   "cell_type": "code",
   "execution_count": 2,
   "outputs": [],
   "source": [
    "data_name = \"Data/Datafinal.csv\"\n",
    "target_name = \"Data/Targetfinal.csv\"\n",
    "\n",
    "data = pd.read_csv(data_name)\n",
    "target = pd.read_csv(target_name)\n",
    "\n",
    "fs = 200\n",
    "#turn header into time stamp\n",
    "newData = (data.T.reset_index().T.reset_index(drop=True).set_axis([f'{i/fs}' for i in range(data.shape[1])], axis=1))\n",
    "newTarget = (target.T.reset_index().T.reset_index(drop=True).set_axis([f'{i/fs}' for i in range(target.shape[1])], axis=1))\n",
    "\n",
    "#print(newData)\n",
    "#print(newTarget)"
   ],
   "metadata": {
    "collapsed": false,
    "pycharm": {
     "name": "#%%\n"
    }
   }
  },
  {
   "cell_type": "code",
   "execution_count": 3,
   "outputs": [
    {
     "data": {
      "text/plain": "  0.0 0.005 0.01 0.015 0.02 0.025 0.03 0.035 0.04 0.045  ... 312.21 312.215  \\\n0   1     1    1     1    1     1    1     1    1     1  ...      0       0   \n1   0     0    0     0    0     0    0     0    0     0  ...      0       0   \n2   0     0    0     0    0     0    0     0    0     0  ...      0       0   \n3   0     0    0     0    0     0    0     0    0     0  ...      0       0   \n4   0     0    0     0    0     0    0     0    0     0  ...      0       0   \n\n  312.22 312.225 312.23 312.235 312.24 312.245 312.25 312.255  \n0      0       0      0       0      0       0      0       0  \n1      0       0      0       0      0       0      0       0  \n2      0       0      0       0      0       0      0       0  \n3      0       0      0       0      0       0      0       0  \n4      0       0      0       0      0       0      0       0  \n\n[5 rows x 62452 columns]",
      "text/html": "<div>\n<style scoped>\n    .dataframe tbody tr th:only-of-type {\n        vertical-align: middle;\n    }\n\n    .dataframe tbody tr th {\n        vertical-align: top;\n    }\n\n    .dataframe thead th {\n        text-align: right;\n    }\n</style>\n<table border=\"1\" class=\"dataframe\">\n  <thead>\n    <tr style=\"text-align: right;\">\n      <th></th>\n      <th>0.0</th>\n      <th>0.005</th>\n      <th>0.01</th>\n      <th>0.015</th>\n      <th>0.02</th>\n      <th>0.025</th>\n      <th>0.03</th>\n      <th>0.035</th>\n      <th>0.04</th>\n      <th>0.045</th>\n      <th>...</th>\n      <th>312.21</th>\n      <th>312.215</th>\n      <th>312.22</th>\n      <th>312.225</th>\n      <th>312.23</th>\n      <th>312.235</th>\n      <th>312.24</th>\n      <th>312.245</th>\n      <th>312.25</th>\n      <th>312.255</th>\n    </tr>\n  </thead>\n  <tbody>\n    <tr>\n      <th>0</th>\n      <td>1</td>\n      <td>1</td>\n      <td>1</td>\n      <td>1</td>\n      <td>1</td>\n      <td>1</td>\n      <td>1</td>\n      <td>1</td>\n      <td>1</td>\n      <td>1</td>\n      <td>...</td>\n      <td>0</td>\n      <td>0</td>\n      <td>0</td>\n      <td>0</td>\n      <td>0</td>\n      <td>0</td>\n      <td>0</td>\n      <td>0</td>\n      <td>0</td>\n      <td>0</td>\n    </tr>\n    <tr>\n      <th>1</th>\n      <td>0</td>\n      <td>0</td>\n      <td>0</td>\n      <td>0</td>\n      <td>0</td>\n      <td>0</td>\n      <td>0</td>\n      <td>0</td>\n      <td>0</td>\n      <td>0</td>\n      <td>...</td>\n      <td>0</td>\n      <td>0</td>\n      <td>0</td>\n      <td>0</td>\n      <td>0</td>\n      <td>0</td>\n      <td>0</td>\n      <td>0</td>\n      <td>0</td>\n      <td>0</td>\n    </tr>\n    <tr>\n      <th>2</th>\n      <td>0</td>\n      <td>0</td>\n      <td>0</td>\n      <td>0</td>\n      <td>0</td>\n      <td>0</td>\n      <td>0</td>\n      <td>0</td>\n      <td>0</td>\n      <td>0</td>\n      <td>...</td>\n      <td>0</td>\n      <td>0</td>\n      <td>0</td>\n      <td>0</td>\n      <td>0</td>\n      <td>0</td>\n      <td>0</td>\n      <td>0</td>\n      <td>0</td>\n      <td>0</td>\n    </tr>\n    <tr>\n      <th>3</th>\n      <td>0</td>\n      <td>0</td>\n      <td>0</td>\n      <td>0</td>\n      <td>0</td>\n      <td>0</td>\n      <td>0</td>\n      <td>0</td>\n      <td>0</td>\n      <td>0</td>\n      <td>...</td>\n      <td>0</td>\n      <td>0</td>\n      <td>0</td>\n      <td>0</td>\n      <td>0</td>\n      <td>0</td>\n      <td>0</td>\n      <td>0</td>\n      <td>0</td>\n      <td>0</td>\n    </tr>\n    <tr>\n      <th>4</th>\n      <td>0</td>\n      <td>0</td>\n      <td>0</td>\n      <td>0</td>\n      <td>0</td>\n      <td>0</td>\n      <td>0</td>\n      <td>0</td>\n      <td>0</td>\n      <td>0</td>\n      <td>...</td>\n      <td>0</td>\n      <td>0</td>\n      <td>0</td>\n      <td>0</td>\n      <td>0</td>\n      <td>0</td>\n      <td>0</td>\n      <td>0</td>\n      <td>0</td>\n      <td>0</td>\n    </tr>\n  </tbody>\n</table>\n<p>5 rows × 62452 columns</p>\n</div>"
     },
     "execution_count": 3,
     "metadata": {},
     "output_type": "execute_result"
    }
   ],
   "source": [
    "#replace row 0 with correct target data\n",
    "\n",
    "newTarget.iloc[0,:] = np.zeros(newTarget.shape[1])\n",
    "newTarget.iloc[0,0:1200] = np.ones(1200)\n",
    "newTarget.iloc[0,15613:16813] = np.ones(1200)\n",
    "newTarget.iloc[0,31226:32426] = np.ones(1200)\n",
    "newTarget.iloc[0,46839:48039] = np.ones(1200)\n",
    "\n",
    "newTarget.head()\n",
    "#print(newTarget)"
   ],
   "metadata": {
    "collapsed": false,
    "pycharm": {
     "name": "#%%\n"
    }
   }
  },
  {
   "cell_type": "code",
   "execution_count": 4,
   "outputs": [
    {
     "name": "stdout",
     "output_type": "stream",
     "text": [
      "[ 1.  1.  1. ... 13. 13. 13.]\n"
     ]
    }
   ],
   "source": [
    "#turn target index into number\n",
    "\n",
    "targetData = np.zeros(newTarget.shape[1])\n",
    "\n",
    "for i in range(newTarget.shape[1]):\n",
    "    for j in range(newTarget.shape[0]):\n",
    "        if newTarget.iloc[j,i] != 0:\n",
    "            targetData[i] = 1+j\n",
    "\n",
    "print(targetData)"
   ],
   "metadata": {
    "collapsed": false,
    "pycharm": {
     "name": "#%%\n"
    }
   }
  },
  {
   "cell_type": "code",
   "execution_count": 5,
   "outputs": [
    {
     "name": "stdout",
     "output_type": "stream",
     "text": [
      "(49961, 96)\n",
      "(12491, 96)\n",
      "(49961,)\n",
      "(12491,)\n"
     ]
    }
   ],
   "source": [
    "#split train test\n",
    "from sklearn.neural_network import MLPClassifier\n",
    "from sklearn.model_selection import train_test_split\n",
    "\n",
    "trainData, testData, trainTarget, testTarget = train_test_split(np.transpose(newData), np.transpose(targetData), test_size=.2,random_state=0)\n",
    "\n",
    "print(trainData.shape)\n",
    "print(testData.shape)\n",
    "print(trainTarget.shape)\n",
    "print(testTarget.shape)"
   ],
   "metadata": {
    "collapsed": false,
    "pycharm": {
     "name": "#%%\n"
    }
   }
  },
  {
   "cell_type": "code",
   "execution_count": 6,
   "outputs": [],
   "source": [
    "#convert string to float\n",
    "\n",
    "trainDataNumeric = trainData.to_numpy()\n",
    "testDataNumeric = testData.to_numpy()\n",
    "\n",
    "for i in range(trainDataNumeric.shape[0]):\n",
    "    for j in range(trainDataNumeric.shape[1]):\n",
    "        if type(trainDataNumeric[i,j]) == str:\n",
    "            trainDataNumeric[i,j] = trainDataNumeric[i,j][:-3]\n",
    "\n",
    "for i in range(testDataNumeric.shape[0]):\n",
    "    for j in range(testDataNumeric.shape[1]):\n",
    "        if type(testDataNumeric[i,j]) == str:\n",
    "            testDataNumeric[i,j] = testDataNumeric[i,j][:-3]\n",
    "\n",
    "trainDataFloat = trainDataNumeric.astype(np.float)\n",
    "testDataFloat = testDataNumeric.astype(np.float)"
   ],
   "metadata": {
    "collapsed": false,
    "pycharm": {
     "name": "#%%\n"
    }
   }
  },
  {
   "cell_type": "code",
   "execution_count": 7,
   "outputs": [
    {
     "data": {
      "text/plain": "0.863021375390281"
     },
     "execution_count": 7,
     "metadata": {},
     "output_type": "execute_result"
    }
   ],
   "source": [
    "#Train with MLP\n",
    "\n",
    "mlp = MLPClassifier(hidden_layer_sizes=(100,),solver='adam',random_state=0,max_iter=300).fit(trainDataFloat,trainTarget)\n",
    "mlp.predict_proba(testDataFloat)\n",
    "mlp.predict(testDataFloat)\n",
    "mlp.score(testDataFloat,testTarget)"
   ],
   "metadata": {
    "collapsed": false,
    "pycharm": {
     "name": "#%%\n"
    }
   }
  }
 ],
 "metadata": {
  "kernelspec": {
   "display_name": "Python 3",
   "language": "python",
   "name": "python3"
  },
  "language_info": {
   "codemirror_mode": {
    "name": "ipython",
    "version": 2
   },
   "file_extension": ".py",
   "mimetype": "text/x-python",
   "name": "python",
   "nbconvert_exporter": "python",
   "pygments_lexer": "ipython2",
   "version": "2.7.6"
  }
 },
 "nbformat": 4,
 "nbformat_minor": 0
}