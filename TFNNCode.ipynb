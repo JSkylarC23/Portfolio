{
 "cells": [
  {
   "cell_type": "code",
   "execution_count": 1,
   "metadata": {
    "id": "8qVhGJc29eiR"
   },
   "outputs": [
    {
     "name": "stderr",
     "output_type": "stream",
     "text": [
      "/srv/conda/envs/notebook/lib/python3.7/site-packages/tensorflow/python/framework/dtypes.py:526: FutureWarning: Passing (type, 1) or '1type' as a synonym of type is deprecated; in a future version of numpy, it will be understood as (type, (1,)) / '(1,)type'.\n",
      "  _np_qint8 = np.dtype([(\"qint8\", np.int8, 1)])\n",
      "/srv/conda/envs/notebook/lib/python3.7/site-packages/tensorflow/python/framework/dtypes.py:527: FutureWarning: Passing (type, 1) or '1type' as a synonym of type is deprecated; in a future version of numpy, it will be understood as (type, (1,)) / '(1,)type'.\n",
      "  _np_quint8 = np.dtype([(\"quint8\", np.uint8, 1)])\n",
      "/srv/conda/envs/notebook/lib/python3.7/site-packages/tensorflow/python/framework/dtypes.py:528: FutureWarning: Passing (type, 1) or '1type' as a synonym of type is deprecated; in a future version of numpy, it will be understood as (type, (1,)) / '(1,)type'.\n",
      "  _np_qint16 = np.dtype([(\"qint16\", np.int16, 1)])\n",
      "/srv/conda/envs/notebook/lib/python3.7/site-packages/tensorflow/python/framework/dtypes.py:529: FutureWarning: Passing (type, 1) or '1type' as a synonym of type is deprecated; in a future version of numpy, it will be understood as (type, (1,)) / '(1,)type'.\n",
      "  _np_quint16 = np.dtype([(\"quint16\", np.uint16, 1)])\n",
      "/srv/conda/envs/notebook/lib/python3.7/site-packages/tensorflow/python/framework/dtypes.py:530: FutureWarning: Passing (type, 1) or '1type' as a synonym of type is deprecated; in a future version of numpy, it will be understood as (type, (1,)) / '(1,)type'.\n",
      "  _np_qint32 = np.dtype([(\"qint32\", np.int32, 1)])\n",
      "/srv/conda/envs/notebook/lib/python3.7/site-packages/tensorflow/python/framework/dtypes.py:535: FutureWarning: Passing (type, 1) or '1type' as a synonym of type is deprecated; in a future version of numpy, it will be understood as (type, (1,)) / '(1,)type'.\n",
      "  np_resource = np.dtype([(\"resource\", np.ubyte, 1)])\n"
     ]
    },
    {
     "ename": "ModuleNotFoundError",
     "evalue": "No module named 'keras'",
     "output_type": "error",
     "traceback": [
      "\u001b[0;31m---------------------------------------------------------------------------\u001b[0m",
      "\u001b[0;31mModuleNotFoundError\u001b[0m                       Traceback (most recent call last)",
      "\u001b[0;32m<ipython-input-1-3f311077e731>\u001b[0m in \u001b[0;36m<module>\u001b[0;34m\u001b[0m\n\u001b[1;32m      2\u001b[0m \u001b[0;32mimport\u001b[0m \u001b[0mtensorflow\u001b[0m \u001b[0;32mas\u001b[0m \u001b[0mtf\u001b[0m\u001b[0;34m\u001b[0m\u001b[0;34m\u001b[0m\u001b[0m\n\u001b[1;32m      3\u001b[0m \u001b[0;32mfrom\u001b[0m \u001b[0mtensorflow\u001b[0m \u001b[0;32mimport\u001b[0m \u001b[0mkeras\u001b[0m\u001b[0;34m\u001b[0m\u001b[0;34m\u001b[0m\u001b[0m\n\u001b[0;32m----> 4\u001b[0;31m \u001b[0;32mfrom\u001b[0m \u001b[0mkeras\u001b[0m\u001b[0;34m.\u001b[0m\u001b[0mlayers\u001b[0m \u001b[0;32mimport\u001b[0m \u001b[0mDense\u001b[0m\u001b[0;34m,\u001b[0m \u001b[0mDropout\u001b[0m\u001b[0;34m,\u001b[0m \u001b[0mFlatten\u001b[0m\u001b[0;34m,\u001b[0m \u001b[0mActivation\u001b[0m\u001b[0;34m,\u001b[0m \u001b[0mBatchNormalization\u001b[0m\u001b[0;34m\u001b[0m\u001b[0;34m\u001b[0m\u001b[0m\n\u001b[0m\u001b[1;32m      5\u001b[0m \u001b[0mtf\u001b[0m\u001b[0;34m.\u001b[0m\u001b[0m__version__\u001b[0m\u001b[0;34m\u001b[0m\u001b[0;34m\u001b[0m\u001b[0m\n\u001b[1;32m      6\u001b[0m \u001b[0mkeras\u001b[0m\u001b[0;34m.\u001b[0m\u001b[0m__version__\u001b[0m\u001b[0;34m\u001b[0m\u001b[0;34m\u001b[0m\u001b[0m\n",
      "\u001b[0;31mModuleNotFoundError\u001b[0m: No module named 'keras'"
     ]
    }
   ],
   "source": [
    "import numpy as np\n",
    "import tensorflow as tf\n",
    "from tensorflow import keras\n",
    "from keras.layers import Dense, Dropout, Flatten, Activation, BatchNormalization\n",
    "tf.__version__\n",
    "keras.__version__"
   ]
  },
  {
   "cell_type": "code",
   "execution_count": 2,
   "metadata": {
    "colab": {
     "base_uri": "https://localhost:8080/"
    },
    "id": "xDrqlCAu99fG",
    "outputId": "b91188c8-d999-49dc-b9fc-55ba1c1d57f2"
   },
   "outputs": [
    {
     "name": "stdout",
     "output_type": "stream",
     "text": [
      "Downloading data from https://storage.googleapis.com/tensorflow/tf-keras-datasets/train-labels-idx1-ubyte.gz\n",
      "32768/29515 [=================================] - 0s 0us/step\n",
      "Downloading data from https://storage.googleapis.com/tensorflow/tf-keras-datasets/train-images-idx3-ubyte.gz\n",
      "26427392/26421880 [==============================] - 0s 0us/step\n",
      "Downloading data from https://storage.googleapis.com/tensorflow/tf-keras-datasets/t10k-labels-idx1-ubyte.gz\n",
      "8192/5148 [===============================================] - 0s 0us/step\n",
      "Downloading data from https://storage.googleapis.com/tensorflow/tf-keras-datasets/t10k-images-idx3-ubyte.gz\n",
      "4423680/4422102 [==============================] - 0s 0us/step\n"
     ]
    }
   ],
   "source": [
    "fashion_mnist = keras.datasets.fashion_mnist\n",
    "(X_train_full, y_train_full), (X_test, y_test) = fashion_mnist.load_data()"
   ]
  },
  {
   "cell_type": "code",
   "execution_count": 3,
   "metadata": {
    "colab": {
     "base_uri": "https://localhost:8080/"
    },
    "id": "w12AR46U-DV1",
    "outputId": "2369c087-c963-4860-f009-611044b93b78"
   },
   "outputs": [
    {
     "data": {
      "text/plain": [
       "(60000, 28, 28)"
      ]
     },
     "execution_count": 3,
     "metadata": {},
     "output_type": "execute_result"
    }
   ],
   "source": [
    "X_train_full.shape"
   ]
  },
  {
   "cell_type": "code",
   "execution_count": 4,
   "metadata": {
    "colab": {
     "base_uri": "https://localhost:8080/"
    },
    "id": "1asHEAuR-KOb",
    "outputId": "c1ab63d9-8724-4827-8615-90b014bcbc87"
   },
   "outputs": [
    {
     "data": {
      "text/plain": [
       "dtype('uint8')"
      ]
     },
     "execution_count": 4,
     "metadata": {},
     "output_type": "execute_result"
    }
   ],
   "source": [
    "X_train_full.dtype"
   ]
  },
  {
   "cell_type": "code",
   "execution_count": 5,
   "metadata": {
    "id": "76k8x8O9-UTw"
   },
   "outputs": [],
   "source": [
    "X_valid, X_train = X_train_full[:5000] / 255.0, X_train_full[5000:] / 255.0\n",
    "y_valid, y_train = y_train_full[:5000], y_train_full[5000:]"
   ]
  },
  {
   "cell_type": "code",
   "execution_count": 6,
   "metadata": {
    "id": "044_DyN1-ZBI"
   },
   "outputs": [],
   "source": [
    "class_names = [\"T-shirt/top\", \"Trouser\", \"Pullover\", \"Dress\", \"Coat\",\n",
    "\"Sandal\", \"Shirt\", \"Sneaker\", \"Bag\", \"Ankle boot\"]"
   ]
  },
  {
   "cell_type": "code",
   "execution_count": 7,
   "metadata": {
    "colab": {
     "base_uri": "https://localhost:8080/",
     "height": 36
    },
    "id": "rXdf2ahQ-iyL",
    "outputId": "bc32fb0e-a4f3-45b8-8f67-603308196816"
   },
   "outputs": [
    {
     "data": {
      "text/plain": [
       "'Coat'"
      ]
     },
     "execution_count": 7,
     "metadata": {},
     "output_type": "execute_result"
    }
   ],
   "source": [
    "class_names[y_train[0]]"
   ]
  },
  {
   "cell_type": "code",
   "execution_count": 8,
   "metadata": {
    "id": "eY4e-x2V-o8s"
   },
   "outputs": [
    {
     "name": "stdout",
     "output_type": "stream",
     "text": [
      "WARNING:tensorflow:From /srv/conda/envs/notebook/lib/python3.7/site-packages/tensorflow/python/ops/resource_variable_ops.py:435: colocate_with (from tensorflow.python.framework.ops) is deprecated and will be removed in a future version.\n",
      "Instructions for updating:\n",
      "Colocations handled automatically by placer.\n",
      "WARNING:tensorflow:From /srv/conda/envs/notebook/lib/python3.7/site-packages/tensorflow/python/keras/layers/core.py:143: calling dropout (from tensorflow.python.ops.nn_ops) with keep_prob is deprecated and will be removed in a future version.\n",
      "Instructions for updating:\n",
      "Please use `rate` instead of `keep_prob`. Rate should be set to `rate = 1 - keep_prob`.\n"
     ]
    }
   ],
   "source": [
    "input = keras.layers.Input(shape=[28, 28])\n",
    "flat = keras.layers.Flatten(input_shape=[28, 28])(input)\n",
    "batch1=keras.layers.BatchNormalization()(flat)\n",
    "hidden1 = keras.layers.Dense(300, activation=\"relu\")(batch1)\n",
    "drop1=keras.layers.Dropout(0.2)(hidden1)\n",
    "hidden2 = keras.layers.Dense(100, activation=\"relu\")(drop1)\n",
    "concat = keras.layers.Concatenate()([flat, hidden2])\n",
    "output = keras.layers.Dense(10, activation=\"softmax\")(concat)\n",
    "model = keras.Model(inputs=[input], outputs=[output])"
   ]
  },
  {
   "cell_type": "code",
   "execution_count": 9,
   "metadata": {
    "colab": {
     "base_uri": "https://localhost:8080/"
    },
    "id": "GMI6rzdj-snV",
    "outputId": "528419f9-793b-454d-f146-3e4bd38296ea"
   },
   "outputs": [
    {
     "name": "stdout",
     "output_type": "stream",
     "text": [
      "__________________________________________________________________________________________________\n",
      "Layer (type)                    Output Shape         Param #     Connected to                     \n",
      "==================================================================================================\n",
      "input_1 (InputLayer)            (None, 28, 28)       0                                            \n",
      "__________________________________________________________________________________________________\n",
      "flatten (Flatten)               (None, 784)          0           input_1[0][0]                    \n",
      "__________________________________________________________________________________________________\n",
      "batch_normalization_v1 (BatchNo (None, 784)          3136        flatten[0][0]                    \n",
      "__________________________________________________________________________________________________\n",
      "dense (Dense)                   (None, 300)          235500      batch_normalization_v1[0][0]     \n",
      "__________________________________________________________________________________________________\n",
      "dropout (Dropout)               (None, 300)          0           dense[0][0]                      \n",
      "__________________________________________________________________________________________________\n",
      "dense_1 (Dense)                 (None, 100)          30100       dropout[0][0]                    \n",
      "__________________________________________________________________________________________________\n",
      "concatenate (Concatenate)       (None, 884)          0           flatten[0][0]                    \n",
      "                                                                 dense_1[0][0]                    \n",
      "__________________________________________________________________________________________________\n",
      "dense_2 (Dense)                 (None, 10)           8850        concatenate[0][0]                \n",
      "==================================================================================================\n",
      "Total params: 277,586\n",
      "Trainable params: 276,018\n",
      "Non-trainable params: 1,568\n",
      "__________________________________________________________________________________________________\n"
     ]
    }
   ],
   "source": [
    "model.summary()"
   ]
  },
  {
   "cell_type": "code",
   "execution_count": 10,
   "metadata": {
    "id": "1OJ4hKCy-ypc"
   },
   "outputs": [],
   "source": [
    "model.compile(loss=\"sparse_categorical_crossentropy\", optimizer=\"sgd\", metrics=[\"accuracy\"])"
   ]
  },
  {
   "cell_type": "code",
   "execution_count": null,
   "metadata": {
    "colab": {
     "base_uri": "https://localhost:8080/"
    },
    "id": "4nCnf6-j-_Nw",
    "outputId": "01af3340-fce8-41e1-aa65-e3205f4a238c"
   },
   "outputs": [
    {
     "name": "stdout",
     "output_type": "stream",
     "text": [
      "Train on 55000 samples, validate on 5000 samples\n",
      "Epoch 1/30\n",
      "55000/55000 [==============================] - 34s 609us/sample - loss: 0.6474 - acc: 0.7765 - val_loss: 0.4504 - val_acc: 0.8404\n",
      "Epoch 2/30\n",
      "55000/55000 [==============================] - 32s 591us/sample - loss: 0.4532 - acc: 0.8378 - val_loss: 0.3965 - val_acc: 0.8598\n",
      "Epoch 3/30\n",
      "55000/55000 [==============================] - 33s 597us/sample - loss: 0.4139 - acc: 0.8523 - val_loss: 0.3685 - val_acc: 0.8704\n",
      "Epoch 4/30\n",
      "55000/55000 [==============================] - 32s 582us/sample - loss: 0.3888 - acc: 0.8597 - val_loss: 0.3529 - val_acc: 0.8798\n",
      "Epoch 5/30\n",
      "55000/55000 [==============================] - 33s 609us/sample - loss: 0.3692 - acc: 0.8674 - val_loss: 0.3427 - val_acc: 0.8802\n",
      "Epoch 6/30\n",
      "55000/55000 [==============================] - 33s 607us/sample - loss: 0.3545 - acc: 0.8724 - val_loss: 0.3347 - val_acc: 0.8850\n",
      "Epoch 7/30\n",
      "55000/55000 [==============================] - 33s 595us/sample - loss: 0.3380 - acc: 0.8779 - val_loss: 0.3283 - val_acc: 0.8844\n",
      "Epoch 8/30\n",
      "55000/55000 [==============================] - 33s 609us/sample - loss: 0.3296 - acc: 0.8823 - val_loss: 0.3252 - val_acc: 0.8872\n",
      "Epoch 9/30\n",
      "55000/55000 [==============================] - 33s 607us/sample - loss: 0.3202 - acc: 0.8822 - val_loss: 0.3247 - val_acc: 0.8856\n",
      "Epoch 10/30\n",
      "55000/55000 [==============================] - 33s 609us/sample - loss: 0.3090 - acc: 0.8879 - val_loss: 0.3143 - val_acc: 0.8888\n",
      "Epoch 11/30\n",
      "55000/55000 [==============================] - 34s 613us/sample - loss: 0.3022 - acc: 0.8897 - val_loss: 0.3136 - val_acc: 0.8894\n",
      "Epoch 12/30\n",
      "55000/55000 [==============================] - 34s 613us/sample - loss: 0.2938 - acc: 0.8927 - val_loss: 0.3067 - val_acc: 0.8904\n",
      "Epoch 13/30\n",
      "55000/55000 [==============================] - 33s 600us/sample - loss: 0.2883 - acc: 0.8953 - val_loss: 0.3064 - val_acc: 0.8892\n",
      "Epoch 14/30\n",
      "55000/55000 [==============================] - 33s 604us/sample - loss: 0.2814 - acc: 0.8968 - val_loss: 0.3069 - val_acc: 0.8934\n",
      "Epoch 15/30\n",
      "55000/55000 [==============================] - 33s 606us/sample - loss: 0.2753 - acc: 0.8986 - val_loss: 0.3059 - val_acc: 0.8918\n",
      "Epoch 16/30\n",
      "55000/55000 [==============================] - 33s 603us/sample - loss: 0.2699 - acc: 0.9005 - val_loss: 0.2987 - val_acc: 0.8936\n",
      "Epoch 17/30\n",
      "55000/55000 [==============================] - 34s 615us/sample - loss: 0.2616 - acc: 0.9042 - val_loss: 0.2953 - val_acc: 0.8962\n",
      "Epoch 18/30\n",
      "55000/55000 [==============================] - 33s 604us/sample - loss: 0.2566 - acc: 0.9044 - val_loss: 0.2968 - val_acc: 0.8958\n",
      "Epoch 19/30\n",
      "55000/55000 [==============================] - 34s 614us/sample - loss: 0.2531 - acc: 0.9079 - val_loss: 0.2968 - val_acc: 0.8944\n",
      "Epoch 20/30\n",
      "55000/55000 [==============================] - 33s 609us/sample - loss: 0.2465 - acc: 0.9085 - val_loss: 0.2901 - val_acc: 0.8984\n",
      "Epoch 21/30\n",
      "55000/55000 [==============================] - 34s 609us/sample - loss: 0.2418 - acc: 0.9109 - val_loss: 0.2915 - val_acc: 0.8982\n",
      "Epoch 22/30\n",
      "55000/55000 [==============================] - 34s 611us/sample - loss: 0.2418 - acc: 0.9108 - val_loss: 0.2927 - val_acc: 0.8976\n",
      "Epoch 23/30\n",
      "55000/55000 [==============================] - 34s 612us/sample - loss: 0.2324 - acc: 0.9129 - val_loss: 0.2953 - val_acc: 0.8968\n",
      "Epoch 24/30\n",
      "55000/55000 [==============================] - 33s 607us/sample - loss: 0.2281 - acc: 0.9150 - val_loss: 0.2892 - val_acc: 0.8968\n",
      "Epoch 25/30\n",
      "55000/55000 [==============================] - 34s 613us/sample - loss: 0.2247 - acc: 0.9167 - val_loss: 0.2884 - val_acc: 0.8996\n",
      "Epoch 26/30\n",
      "55000/55000 [==============================] - 34s 614us/sample - loss: 0.2224 - acc: 0.9191 - val_loss: 0.2920 - val_acc: 0.8972\n",
      "Epoch 27/30\n",
      "55000/55000 [==============================] - 34s 614us/sample - loss: 0.2175 - acc: 0.9196 - val_loss: 0.2972 - val_acc: 0.8956\n",
      "Epoch 28/30\n",
      "37184/55000 [===================>..........] - ETA: 10s - loss: 0.2135 - acc: 0.9200"
     ]
    }
   ],
   "source": [
    "history = model.fit(X_train, y_train, epochs=30, validation_data=(X_valid, y_valid))"
   ]
  },
  {
   "cell_type": "code",
   "execution_count": 12,
   "metadata": {
    "colab": {
     "base_uri": "https://localhost:8080/"
    },
    "id": "rAmeSb8WBOS0",
    "outputId": "15d2b691-c274-46e0-f2f9-3cad4c97478a"
   },
   "outputs": [
    {
     "name": "stdout",
     "output_type": "stream",
     "text": [
      "313/313 [==============================] - 1s 2ms/step - loss: 7.0645 - accuracy: 0.1684\n"
     ]
    },
    {
     "data": {
      "text/plain": [
       "[7.064473628997803, 0.16840000450611115]"
      ]
     },
     "execution_count": 12,
     "metadata": {},
     "output_type": "execute_result"
    }
   ],
   "source": [
    "model.evaluate(X_test, y_test)"
   ]
  },
  {
   "cell_type": "code",
   "execution_count": 13,
   "metadata": {
    "colab": {
     "base_uri": "https://localhost:8080/"
    },
    "id": "jAJwnx0NBbWI",
    "outputId": "1b41acd5-32c9-413e-ba22-dd6e53947b27"
   },
   "outputs": [
    {
     "name": "stdout",
     "output_type": "stream",
     "text": [
      "[[ -35132.98   -127796.07   -558173.75   ...   25243.197     6607.646\n",
      "    20520.033 ]\n",
      " [  24378.893  -160143.5    -808603.1    ...  -25143.5      15228.926\n",
      "     7097.8193]\n",
      " [  47444.66    -69259.9    -650878.25   ...  -24449.424     7818.6953\n",
      "     9392.506 ]\n",
      " ...\n",
      " [  32119.742   -89221.18   -351235.5    ...   -8502.389    12768.407\n",
      "     2190.748 ]\n",
      " [  30257.82    -81649.7    -515171.6    ...   -8185.1675    6782.4175\n",
      "     4823.567 ]\n",
      " [ -26620.693   -93742.984  -493884.38   ...   13050.947     3862.5142\n",
      "     8546.04  ]]\n"
     ]
    }
   ],
   "source": [
    "y_proba = model.predict(X_test)\n",
    "print(y_proba)"
   ]
  },
  {
   "cell_type": "code",
   "execution_count": null,
   "metadata": {},
   "outputs": [],
   "source": []
  },
  {
   "cell_type": "code",
   "execution_count": null,
   "metadata": {},
   "outputs": [],
   "source": []
  }
 ],
 "metadata": {
  "colab": {
   "name": "NeuN_Part_I.ipynb",
   "provenance": []
  },
  "kernelspec": {
   "display_name": "Python 3",
   "language": "python",
   "name": "python3"
  },
  "language_info": {
   "codemirror_mode": {
    "name": "ipython",
    "version": 3
   },
   "file_extension": ".py",
   "mimetype": "text/x-python",
   "name": "python",
   "nbconvert_exporter": "python",
   "pygments_lexer": "ipython3",
   "version": "3.7.8"
  }
 },
 "nbformat": 4,
 "nbformat_minor": 4
}
