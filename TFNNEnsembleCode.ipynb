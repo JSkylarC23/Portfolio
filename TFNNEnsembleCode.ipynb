{
 "cells": [
  {
   "cell_type": "code",
   "execution_count": 1,
   "id": "9a65a722-a3bf-40a8-890b-24a8a0caaeab",
   "metadata": {},
   "outputs": [
    {
     "data": {
      "text/plain": "'2.7.0'"
     },
     "execution_count": 1,
     "metadata": {},
     "output_type": "execute_result"
    }
   ],
   "source": [
    "import numpy as np\n",
    "import tensorflow as tf\n",
    "from tensorflow import keras\n",
    "from keras.layers import Dense, Dropout, Flatten, Activation, BatchNormalization\n",
    "tf.__version__\n",
    "keras.__version__"
   ]
  },
  {
   "cell_type": "code",
   "execution_count": 2,
   "id": "af871eb8-19eb-4e61-bf54-e30a4d479468",
   "metadata": {},
   "outputs": [
    {
     "name": "stdout",
     "output_type": "stream",
     "text": [
      "Downloading data from https://storage.googleapis.com/tensorflow/tf-keras-datasets/train-labels-idx1-ubyte.gz\n",
      "32768/29515 [=================================] - 0s 1us/step\n",
      "40960/29515 [=========================================] - 0s 1us/step\n",
      "Downloading data from https://storage.googleapis.com/tensorflow/tf-keras-datasets/train-images-idx3-ubyte.gz\n",
      "26427392/26421880 [==============================] - 2s 0us/step\n",
      "26435584/26421880 [==============================] - 2s 0us/step\n",
      "Downloading data from https://storage.googleapis.com/tensorflow/tf-keras-datasets/t10k-labels-idx1-ubyte.gz\n",
      "16384/5148 [===============================================================================================] - 0s 0s/step\n",
      "Downloading data from https://storage.googleapis.com/tensorflow/tf-keras-datasets/t10k-images-idx3-ubyte.gz\n",
      "4423680/4422102 [==============================] - 0s 0us/step\n",
      "4431872/4422102 [==============================] - 0s 0us/step\n",
      "(60000, 28, 28)\n",
      "(60000,)\n",
      "(10000, 28, 28)\n",
      "(10000,)\n"
     ]
    }
   ],
   "source": [
    "fashion_mnist = keras.datasets.fashion_mnist\n",
    "(X_train_full, y_train_full), (X_test, y_test) = fashion_mnist.load_data()\n",
    "print(X_train_full.shape)\n",
    "print(y_train_full.shape)\n",
    "print(X_test.shape)\n",
    "print(y_test.shape)"
   ]
  },
  {
   "cell_type": "code",
   "execution_count": 7,
   "outputs": [
    {
     "name": "stdout",
     "output_type": "stream",
     "text": [
      "[9 2 1 ... 8 1 5]\n"
     ]
    }
   ],
   "source": [
    "print(y_test)"
   ],
   "metadata": {
    "collapsed": false,
    "pycharm": {
     "name": "#%%\n"
    }
   }
  },
  {
   "cell_type": "code",
   "execution_count": 3,
   "id": "8d8fb553-96c6-4d6d-8ad7-06082725049e",
   "metadata": {},
   "outputs": [],
   "source": [
    "X_valid, X_train = X_train_full[:5000] / 255.0, X_train_full[5000:] / 255.0\n",
    "y_valid, y_train = y_train_full[:5000], y_train_full[5000:]\n",
    "\n",
    "class_names = [\"T-shirt/top\", \"Trouser\", \"Pullover\", \"Dress\", \"Coat\",\n",
    "\"Sandal\", \"Shirt\", \"Sneaker\", \"Bag\", \"Ankle boot\"]"
   ]
  },
  {
   "cell_type": "code",
   "execution_count": 4,
   "id": "29fd571b-a9b7-4d62-a986-2e458d24bf06",
   "metadata": {},
   "outputs": [
    {
     "name": "stdout",
     "output_type": "stream",
     "text": [
      "Model: \"model\"\n",
      "__________________________________________________________________________________________________\n",
      " Layer (type)                   Output Shape         Param #     Connected to                     \n",
      "==================================================================================================\n",
      " input_1 (InputLayer)           [(None, 28, 28)]     0           []                               \n",
      "                                                                                                  \n",
      " flatten (Flatten)              (None, 784)          0           ['input_1[0][0]']                \n",
      "                                                                                                  \n",
      " batch_normalization (BatchNorm  (None, 784)         3136        ['flatten[0][0]']                \n",
      " alization)                                                                                       \n",
      "                                                                                                  \n",
      " dense (Dense)                  (None, 300)          235500      ['batch_normalization[0][0]']    \n",
      "                                                                                                  \n",
      " dropout (Dropout)              (None, 300)          0           ['dense[0][0]']                  \n",
      "                                                                                                  \n",
      " dense_1 (Dense)                (None, 100)          30100       ['dropout[0][0]']                \n",
      "                                                                                                  \n",
      " concatenate (Concatenate)      (None, 884)          0           ['flatten[0][0]',                \n",
      "                                                                  'dense_1[0][0]']                \n",
      "                                                                                                  \n",
      " dense_2 (Dense)                (None, 10)           8850        ['concatenate[0][0]']            \n",
      "                                                                                                  \n",
      "==================================================================================================\n",
      "Total params: 277,586\n",
      "Trainable params: 276,018\n",
      "Non-trainable params: 1,568\n",
      "__________________________________________________________________________________________________\n"
     ]
    }
   ],
   "source": [
    "# NN 1\n",
    "\n",
    "input = keras.layers.Input(shape=[28, 28])\n",
    "flat = keras.layers.Flatten(input_shape=[28, 28])(input)\n",
    "batch1=keras.layers.BatchNormalization()(flat)\n",
    "hidden1 = keras.layers.Dense(300, activation=\"relu\")(batch1)\n",
    "drop1=keras.layers.Dropout(0.2)(hidden1)\n",
    "hidden2 = keras.layers.Dense(100, activation=\"relu\")(drop1)\n",
    "concat = keras.layers.Concatenate()([flat, hidden2])\n",
    "output = keras.layers.Dense(10, activation=\"softmax\")(concat)\n",
    "model = keras.Model(inputs=[input], outputs=[output])\n",
    "\n",
    "model.summary()"
   ]
  },
  {
   "cell_type": "code",
   "execution_count": 5,
   "id": "79f71381-dac9-4ec3-8e54-830cf4717093",
   "metadata": {},
   "outputs": [],
   "source": [
    "model.compile(loss=\"sparse_categorical_crossentropy\", optimizer=\"sgd\", metrics=[\"accuracy\"])"
   ]
  },
  {
   "cell_type": "code",
   "execution_count": 6,
   "id": "5e832d3c-eaa3-415f-a63d-47d4cf019725",
   "metadata": {},
   "outputs": [
    {
     "name": "stdout",
     "output_type": "stream",
     "text": [
      "Epoch 1/30\n",
      "1719/1719 [==============================] - 5s 3ms/step - loss: 0.6396 - accuracy: 0.7780 - val_loss: 0.4379 - val_accuracy: 0.8514\n",
      "Epoch 2/30\n",
      "1719/1719 [==============================] - 5s 3ms/step - loss: 0.4537 - accuracy: 0.8371 - val_loss: 0.4020 - val_accuracy: 0.8604\n",
      "Epoch 3/30\n",
      "1719/1719 [==============================] - 5s 3ms/step - loss: 0.4121 - accuracy: 0.8519 - val_loss: 0.3659 - val_accuracy: 0.8710\n",
      "Epoch 4/30\n",
      "1719/1719 [==============================] - 5s 3ms/step - loss: 0.3851 - accuracy: 0.8615 - val_loss: 0.3594 - val_accuracy: 0.8696\n",
      "Epoch 5/30\n",
      "1719/1719 [==============================] - 5s 3ms/step - loss: 0.3681 - accuracy: 0.8677 - val_loss: 0.3407 - val_accuracy: 0.8792\n",
      "Epoch 6/30\n",
      "1719/1719 [==============================] - 5s 3ms/step - loss: 0.3531 - accuracy: 0.8712 - val_loss: 0.3345 - val_accuracy: 0.8794\n",
      "Epoch 7/30\n",
      "1719/1719 [==============================] - 5s 3ms/step - loss: 0.3399 - accuracy: 0.8756 - val_loss: 0.3269 - val_accuracy: 0.8802\n",
      "Epoch 8/30\n",
      "1719/1719 [==============================] - 5s 3ms/step - loss: 0.3300 - accuracy: 0.8792 - val_loss: 0.3175 - val_accuracy: 0.8822\n",
      "Epoch 9/30\n",
      "1719/1719 [==============================] - 5s 3ms/step - loss: 0.3179 - accuracy: 0.8844 - val_loss: 0.3170 - val_accuracy: 0.8824\n",
      "Epoch 10/30\n",
      "1719/1719 [==============================] - 5s 3ms/step - loss: 0.3116 - accuracy: 0.8857 - val_loss: 0.3185 - val_accuracy: 0.8844\n",
      "Epoch 11/30\n",
      "1719/1719 [==============================] - 5s 3ms/step - loss: 0.3026 - accuracy: 0.8891 - val_loss: 0.3082 - val_accuracy: 0.8880\n",
      "Epoch 12/30\n",
      "1719/1719 [==============================] - 5s 3ms/step - loss: 0.2927 - accuracy: 0.8936 - val_loss: 0.3049 - val_accuracy: 0.8874\n",
      "Epoch 13/30\n",
      "1719/1719 [==============================] - 5s 3ms/step - loss: 0.2871 - accuracy: 0.8957 - val_loss: 0.3113 - val_accuracy: 0.8860\n",
      "Epoch 14/30\n",
      "1719/1719 [==============================] - 5s 3ms/step - loss: 0.2810 - accuracy: 0.8970 - val_loss: 0.2968 - val_accuracy: 0.8930\n",
      "Epoch 15/30\n",
      "1719/1719 [==============================] - 5s 3ms/step - loss: 0.2751 - accuracy: 0.8993 - val_loss: 0.2947 - val_accuracy: 0.8956\n",
      "Epoch 16/30\n",
      "1719/1719 [==============================] - 5s 3ms/step - loss: 0.2685 - accuracy: 0.9004 - val_loss: 0.2965 - val_accuracy: 0.8944\n",
      "Epoch 17/30\n",
      "1719/1719 [==============================] - 5s 3ms/step - loss: 0.2641 - accuracy: 0.9035 - val_loss: 0.2949 - val_accuracy: 0.8946\n",
      "Epoch 18/30\n",
      "1719/1719 [==============================] - 5s 3ms/step - loss: 0.2563 - accuracy: 0.9064 - val_loss: 0.2978 - val_accuracy: 0.8940\n",
      "Epoch 19/30\n",
      "1719/1719 [==============================] - 5s 3ms/step - loss: 0.2527 - accuracy: 0.9060 - val_loss: 0.2947 - val_accuracy: 0.8952\n",
      "Epoch 20/30\n",
      "1719/1719 [==============================] - 5s 3ms/step - loss: 0.2469 - accuracy: 0.9073 - val_loss: 0.2876 - val_accuracy: 0.8934\n",
      "Epoch 21/30\n",
      "1719/1719 [==============================] - 5s 3ms/step - loss: 0.2440 - accuracy: 0.9107 - val_loss: 0.2960 - val_accuracy: 0.8950\n",
      "Epoch 22/30\n",
      "1719/1719 [==============================] - 5s 3ms/step - loss: 0.2369 - accuracy: 0.9116 - val_loss: 0.2979 - val_accuracy: 0.8966\n",
      "Epoch 23/30\n",
      "1719/1719 [==============================] - 5s 3ms/step - loss: 0.2333 - accuracy: 0.9136 - val_loss: 0.2930 - val_accuracy: 0.8940\n",
      "Epoch 24/30\n",
      "1719/1719 [==============================] - 5s 3ms/step - loss: 0.2305 - accuracy: 0.9149 - val_loss: 0.2940 - val_accuracy: 0.8982\n",
      "Epoch 25/30\n",
      "1719/1719 [==============================] - 5s 3ms/step - loss: 0.2250 - accuracy: 0.9176 - val_loss: 0.2899 - val_accuracy: 0.8958\n",
      "Epoch 26/30\n",
      "1719/1719 [==============================] - 5s 3ms/step - loss: 0.2218 - accuracy: 0.9178 - val_loss: 0.2954 - val_accuracy: 0.8940\n",
      "Epoch 27/30\n",
      "1719/1719 [==============================] - 5s 3ms/step - loss: 0.2165 - accuracy: 0.9211 - val_loss: 0.2888 - val_accuracy: 0.8980\n",
      "Epoch 28/30\n",
      "1719/1719 [==============================] - 5s 3ms/step - loss: 0.2118 - accuracy: 0.9207 - val_loss: 0.2937 - val_accuracy: 0.8996\n",
      "Epoch 29/30\n",
      "1719/1719 [==============================] - 5s 3ms/step - loss: 0.2070 - accuracy: 0.9234 - val_loss: 0.2933 - val_accuracy: 0.8944\n",
      "Epoch 30/30\n",
      "1719/1719 [==============================] - 5s 3ms/step - loss: 0.2056 - accuracy: 0.9236 - val_loss: 0.2944 - val_accuracy: 0.8972\n"
     ]
    }
   ],
   "source": [
    "with tf.device(\"/device:GPU:1\"):\n",
    "    history = model.fit(X_train, y_train, epochs=30, validation_data=(X_valid, y_valid))"
   ]
  },
  {
   "cell_type": "code",
   "execution_count": null,
   "id": "739d3bdf-8247-45bc-99a7-bd7e31548afa",
   "metadata": {},
   "outputs": [],
   "source": [
    "model.evaluate(X_test, y_test)\n",
    "y_proba = model.predict(X_test)\n",
    "print(y_proba)"
   ]
  },
  {
   "cell_type": "code",
   "execution_count": null,
   "id": "12bcec17-517e-450a-ab9d-d2d2490b45ec",
   "metadata": {},
   "outputs": [],
   "source": [
    "# NN 2\n",
    "\n",
    "input = keras.layers.Input(shape=[28, 28])\n",
    "flat = keras.layers.Flatten(input_shape=[28, 28])(input)\n",
    "batch1=keras.layers.BatchNormalization()(flat)\n",
    "hidden1 = keras.layers.Dense(300, activation=\"relu\")(batch1)\n",
    "drop1=keras.layers.Dropout(0.2)(hidden1)\n",
    "hidden2 = keras.layers.Dense(100, activation=\"relu\")(drop1)\n",
    "concat = keras.layers.Concatenate()([flat, hidden2])\n",
    "output = keras.layers.Dense(10, activation=\"softmax\")(concat)\n",
    "model = keras.Model(inputs=[input], outputs=[output])\n",
    "\n",
    "model.summary()"
   ]
  },
  {
   "cell_type": "code",
   "execution_count": null,
   "id": "f6fa84de-650a-4b3c-8b7a-f3efa067593b",
   "metadata": {},
   "outputs": [],
   "source": [
    "model.compile(loss=\"sparse_categorical_crossentropy\", optimizer=\"sgd\", metrics=[\"accuracy\"])"
   ]
  },
  {
   "cell_type": "code",
   "execution_count": null,
   "id": "ee2a2ac7-a472-422c-aa68-9ed555eb3073",
   "metadata": {},
   "outputs": [],
   "source": [
    "with tf.device(\"/device:GPU:1\"):\n",
    "    history = model.fit(X_train, y_train, epochs=30, validation_data=(X_valid, y_valid))"
   ]
  },
  {
   "cell_type": "code",
   "execution_count": null,
   "id": "1194c5b3-124f-4f77-9ffa-dc99a719c165",
   "metadata": {},
   "outputs": [],
   "source": [
    "model.evaluate(X_test, y_test)\n",
    "y_proba = model.predict(X_test)\n",
    "print(y_proba)"
   ]
  },
  {
   "cell_type": "code",
   "execution_count": null,
   "id": "fa76d686-03f4-4738-9358-cc6a419a7f31",
   "metadata": {},
   "outputs": [],
   "source": [
    "# NN 2\n",
    "\n",
    "input = keras.layers.Input(shape=[28, 28])\n",
    "flat = keras.layers.Flatten(input_shape=[28, 28])(input)\n",
    "batch1=keras.layers.BatchNormalization()(flat)\n",
    "hidden1 = keras.layers.Dense(300, activation=\"relu\")(batch1)\n",
    "drop1=keras.layers.Dropout(0.2)(hidden1)\n",
    "hidden2 = keras.layers.Dense(100, activation=\"relu\")(drop1)\n",
    "concat = keras.layers.Concatenate()([flat, hidden2])\n",
    "output = keras.layers.Dense(10, activation=\"softmax\")(concat)\n",
    "model = keras.Model(inputs=[input], outputs=[output])\n",
    "\n",
    "model.summary()"
   ]
  },
  {
   "cell_type": "code",
   "execution_count": null,
   "id": "750939c5-5944-4eb9-b610-ec259492679d",
   "metadata": {},
   "outputs": [],
   "source": [
    "model.compile(loss=\"sparse_categorical_crossentropy\", optimizer=\"sgd\", metrics=[\"accuracy\"])"
   ]
  },
  {
   "cell_type": "code",
   "execution_count": null,
   "id": "0391c3f9-ceb9-40fa-96b8-68627c3a157a",
   "metadata": {},
   "outputs": [],
   "source": [
    "with tf.device(\"/device:GPU:1\"):\n",
    "    history = model.fit(X_train, y_train, epochs=30, validation_data=(X_valid, y_valid))"
   ]
  },
  {
   "cell_type": "code",
   "execution_count": null,
   "id": "6e1350c8-7cda-4518-80f6-2aab7b3dffe6",
   "metadata": {},
   "outputs": [],
   "source": [
    "model.evaluate(X_test, y_test)\n",
    "y_proba = model.predict(X_test)\n",
    "print(y_proba)"
   ]
  }
 ],
 "metadata": {
  "kernelspec": {
   "display_name": "Python 3",
   "language": "python",
   "name": "python3"
  },
  "language_info": {
   "codemirror_mode": {
    "name": "ipython",
    "version": 3
   },
   "file_extension": ".py",
   "mimetype": "text/x-python",
   "name": "python",
   "nbconvert_exporter": "python",
   "pygments_lexer": "ipython3",
   "version": "3.7.8"
  }
 },
 "nbformat": 4,
 "nbformat_minor": 5
}